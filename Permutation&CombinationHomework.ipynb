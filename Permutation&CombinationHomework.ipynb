{
  "nbformat": 4,
  "nbformat_minor": 0,
  "metadata": {
    "colab": {
      "name": "Permutation&CombinationHomework.ipynb",
      "version": "0.3.2",
      "provenance": [],
      "include_colab_link": true
    },
    "kernelspec": {
      "name": "python3",
      "display_name": "Python 3"
    }
  },
  "cells": [
    {
      "cell_type": "markdown",
      "metadata": {
        "id": "view-in-github",
        "colab_type": "text"
      },
      "source": [
        "<a href=\"https://colab.research.google.com/github/Aamir-Ullah-Khan/Permutation-Combination-Homework2/blob/master/Permutation%26CombinationHomework.ipynb\" target=\"_parent\"><img src=\"https://colab.research.google.com/assets/colab-badge.svg\" alt=\"Open In Colab\"/></a>"
      ]
    },
    {
      "metadata": {
        "id": "SKwyx6fFMXE0",
        "colab_type": "code",
        "colab": {}
      },
      "cell_type": "code",
      "source": [
        ""
      ],
      "execution_count": 0,
      "outputs": []
    },
    {
      "metadata": {
        "id": "vZsZha7toUuy",
        "colab_type": "text"
      },
      "cell_type": "markdown",
      "source": [
        ">>>>>**Permutation** \n",
        "\n",
        "An arrangement (or ordering) of a set of objects is called a permutation. (We can also arrange just part of the set of objects.)  \n",
        "In a permutation, the order that we arrange the objects in is important.\n",
        "![alt text](http://mathandmultimedia.com/wp-content/uploads/2009/12/figure13.png)  \n",
        "**Example 1**  \n",
        "Consider arranging 3 letters: A, B, C. How many ways can this be done?   \n",
        "**Solution:**   \n",
        "As there are 3 letters, they can be arranged in **3!** ways i.e. 3* (3-1)*(3-2) = 6 ways.  \n",
        "**Theorem 1 - Arranging n Objects**  \n",
        "In general, n distinct objects can be arranged in n factorial ways.   \n",
        "**Example 2**  \n",
        "In how many ways can 4 different resistors be arranged in series?  \n",
        "**Solution:**   \n",
        "Since there are 4 objects, the number of ways is **4!** i.e. 4*(4-1)* (4-2)*(4-3) = 24 ways  \n",
        "**Theorem 2 - Number of Permutations**  \n",
        "The number of permutations of n distinct objects taken r at a time, denoted by  where repetitions are not allowed, is given by:  n!/(n-r)!  \n",
        "**Example 3**  \n",
        "In how many ways can a supermarket manager display 5 brands of cereals in 3 spaces on a shelf?   \n",
        "**Solution:**  \n",
        "No. of ways = 5!/(5-3)! = 120 ways  \n",
        "**Theorem 3 - Permutations of Different Kinds of Objects**  \n",
        "The number of different permutations of n objects of which n1 are of one kind, n2 are of a second kind, ... nk are of a k-th kind is : n!/(n-1)!* (n-2)*.... (n-k)!  \n",
        "**Example 4**  \n",
        "In how many ways can the six letters of the word \"mammal\" be arranged in a row?  \n",
        "**Solution:**  \n",
        "Since there are three **\"m\"s**, two **\"a\"s** and one **l** the word \"mammal\", we have for the number of ways we can arrange the letters in the word \"mammal\":  \n",
        "No. of ways = 6!/ 3!*2!*1! = 24 ways  \n"
      ]
    },
    {
      "metadata": {
        "id": "hdXbS80YuZii",
        "colab_type": "text"
      },
      "cell_type": "markdown",
      "source": [
        "**Theorem 4 - Arranging Objects in a Circle**  \n",
        "There are (n−1)! ways to arrange n distinct objects in a circle (where the clockwise and anti-clockwise arrangements are regarded as distinct.)   \n",
        "![alt text](https://3.bp.blogspot.com/-SyUcQYvw3hQ/VgZgLsWsuZI/AAAAAAAABno/R9_6m2ji2N4/s1600/circular%2Bpermutations.pngl)\n",
        "**Example 5**  \n",
        "In how many ways can 5 people be arranged in a circle?   \n",
        "**Solution:**   \n",
        "  No. of ways =(5-1)! = 4! =24"
      ]
    },
    {
      "metadata": {
        "id": "DutgtpFkvYzV",
        "colab_type": "text"
      },
      "cell_type": "markdown",
      "source": [
        ""
      ]
    },
    {
      "metadata": {
        "id": "ob3DWe-m-G5D",
        "colab_type": "text"
      },
      "cell_type": "markdown",
      "source": [
        "**Example Taken for Code**  \n",
        "In how many ways \"x\" number of boys and \"y\" number of girls can be arranged in a row  \n",
        "\n",
        "\n",
        "1.   with no restriction\n",
        "2.   such that \"P\" number of boys are together\n",
        "3.   such that \"Q\" number of boys are not together \n",
        "4.    arrange them in a circular manner  \n",
        "**Solution**  \n",
        "Suppose that number of boys entered by user is : 6 \n",
        "Suppose that number of girls entered by user is :  2 \n",
        "Then: \n",
        "\n",
        "\n",
        "1.   With no restriction, they can be arranged in **8! ** i.e. 40320\n",
        "2.   Suppose that number of boys (to be together) entered by user is **\"2\"**, then  \n",
        "Number of ways remaining boys and girls can be arranged ** 7!** i.e. two boys considered as one unit. \n",
        "Number of ways **2 boys** can be arranged ** 2!**\n",
        "Total number of ways they can be arranged is **= 7!*2!= 10080**\n",
        "3.   Suppose that number of **boys (not to be together)** entered by user is **\"2\"**, then we can find number of ways in which boys can be together  **(10080)** and subtract this from total number of ways with no restriction **(40320)**. This will give us required result as: **30240**  \n",
        "4.   For circular arrangement we need to fix position of one boy or girl.  \n",
        "Suppose number of boys = **4**   \n",
        "Suppose number of girls = **2**  \n",
        "Then can be arranged in **5! i.e. 120** ways in a circular arrangement. \n",
        "\n",
        "\n",
        "\n",
        "\n",
        "\n",
        "\n",
        "\n",
        "\n",
        "\n"
      ]
    },
    {
      "metadata": {
        "id": "neZY-br-_gnR",
        "colab_type": "code",
        "colab": {}
      },
      "cell_type": "code",
      "source": [
        ""
      ],
      "execution_count": 0,
      "outputs": []
    },
    {
      "metadata": {
        "id": "JqQAxlPFCq7D",
        "colab_type": "code",
        "colab": {}
      },
      "cell_type": "code",
      "source": [
        "import math\n",
        "import numpy\n",
        "\n",
        "print(\"*****Permutation Example\")\n",
        "option = str('y')\n",
        "while option == 'y':\n",
        "    print(\"Please input number of boys in the group\")\n",
        "    boys = int(input())\n",
        "    if boys < 0:\n",
        "        print(\" Invalid Entry\")\n",
        "        break\n",
        "    print(\"Please input number of girls in the group\")\n",
        "    girls = int(input())\n",
        "    if girls < 0:\n",
        "        print(\" Invalid Entry\")\n",
        "        break\n",
        "    print(\"Please: press 1 for**No Restriction**\\n press 2 for**Restriction: Boys Together**\" )\n",
        "    print(\"press 3 for**Restriction: Boys not Together**\\n press 4 for **Arranging them in a Circle**\")\n",
        "    choice = int(input())\n",
        "    if choice == 1:\n",
        "        print(\" Number of boys is =\", boys)\n",
        "        print(\" Number of girls is =\", girls)\n",
        "        total = boys + girls\n",
        "        print(\"Number of ways \", total, \"can be arranged is:\", end=\"\")\n",
        "        print(math.factorial(total))\n",
        "    elif choice == 2:\n",
        "        print(\" Number of boys you want to be grouped together =\")\n",
        "        together = int(input())\n",
        "        if together > boys :\n",
        "            print(\"Wrong Option: Grouping exceeds total number of boys \")\n",
        "        else:\n",
        "            rem = boys - together + 1\n",
        "            print(\" Number of remaining boys without grouped together is =\", rem)\n",
        "            print(\" Number of girls is =\", girls)\n",
        "            others = rem + girls\n",
        "            x= math.factorial(others)\n",
        "            print(\"Number of ways \", others, \"can be arranged is:\", x)\n",
        "            y = math.factorial(together)\n",
        "            print(\"Number of ways \", together, \"can be arranged is:\", y)\n",
        "            total= x * y\n",
        "            print(\"Number of ways they can be arranged with this condition is =\", total)\n",
        "\n",
        "    elif choice == 3:\n",
        "        print(\" Number of boys is =\", boys)\n",
        "        print(\" Number of girls is =\", girls)\n",
        "        print(\" Number of boys you do not want to be grouped together =\")\n",
        "        nottogether = int(input())\n",
        "        if nottogether > boys:\n",
        "            print(\"Wrong Option: Grouping exceeds total number of boys \")\n",
        "        else:\n",
        "            nocond = boys+girls\n",
        "            alpha = math.factorial(nocond)\n",
        "            print(\"Number of ways they can be arranged without any condition is =\", alpha)\n",
        "            rem = boys - nottogether + 1\n",
        "            #print(\" Number of boys with no restriction is =\", rem)\n",
        "            #print(\" Number of girls is =\", girls)\n",
        "            others = rem + girls\n",
        "            x = math.factorial(others)\n",
        "            #print(\"Number of ways \", others, \"can be arranged is:\", x)\n",
        "            y = math.factorial(nottogether)\n",
        "            #print(\"Number of ways \", nottogether, \"can be arranged is:\", y)\n",
        "            total = x * y\n",
        "            print(\"Total number of ways they can be grouped together is =\", total)\n",
        "            print(\"Number of ways they can be arranged with boys not together in group =\", alpha-total)\n",
        "\n",
        "    elif choice==4:\n",
        "        print(\" Number of boys is =\", boys)\n",
        "        print(\" Number of girls is =\", girls)\n",
        "        total = boys + girls - 1\n",
        "        out = math.factorial(total)\n",
        "        print(\"Total number of ways they can be arranged in a circle is =\", out)\n",
        "    else:\n",
        "        print(\" Wrong Entry. Please try again\")\n",
        "    print(\"If you want to continue enter y or else any other character\")  # To continue while loop\n",
        "    option = input()\n",
        "input(\"Press any key to close the code\")"
      ],
      "execution_count": 0,
      "outputs": []
    },
    {
      "metadata": {
        "id": "A5UWjUopRjBN",
        "colab_type": "text"
      },
      "cell_type": "markdown",
      "source": [
        ">>>>>>**Combination**    \n",
        "\n",
        "A combination of n objects taken r at a time is a selection which does not take into account the arrangement of the objects. That is, the order is not important.  \n",
        "![alt text](https://championsafe.com/wp-content/uploads/how-to-choose-gun-safe-combo.jpg)  \n",
        "The number of ways (or combinations) in which r objects can be selected from a set of n objects, where repetition is not allowed, is denoted by:  n! /r! (n-r)!.  \n",
        "**Example1**   \n",
        "How many different sets of 4 letters can be selected from the alphabet?   \n",
        "**Solution**  \n",
        "Any set of **4** letters chosen can be arranged ** 4!** ways.\n",
        "Hence, the number of different sets of 4 letters is: \n",
        "**26! / 22!*4! = 14950**    \n",
        "**Example 2**  \n",
        "Find the number of ways in which 3 components can be selected from a batch of 20 different components.  \n",
        "**Solution**  \n",
        "**20! / 17! 3! = 1140 **  \n",
        "\n",
        "\n",
        "\n"
      ]
    },
    {
      "metadata": {
        "id": "508AAMVARqaR",
        "colab_type": "text"
      },
      "cell_type": "markdown",
      "source": [
        "**Example Taken for Code**  \n",
        "A class consists of **\"X** studnets of whom **\"Y\"** are prefects. How many committees of **\"Z\"** can be formed if each consists of exactly **\"Q\"** prefects?  \n",
        "**Solution:**  \n",
        "Suppose number of studennts entered by user is **15**  \n",
        "Suppose number of prefects entered by user is **5**  \n",
        "Suppose number of studennts in a committe entered by user is **8**   \n",
        "Suppose number of prefects that must be in the committe entered by user is **2**, then: \n",
        "Number of ways prefects can be selected is : **5!/2!*(5-2)! i.e. 10**  \n",
        "As number of studnets in a comitte is **8**, remaining **6** can be choosen out of **10 i.e. (15-5(prefects))**\n",
        "Number of ways studnets are selected is **10!/6!*(10-6)! i.e. 210** \n",
        "Total number of possible comittes each consisting of **2 prefects** is **210*10 =2100**.\n"
      ]
    },
    {
      "metadata": {
        "id": "XJWi2sQ5RyJZ",
        "colab_type": "code",
        "colab": {}
      },
      "cell_type": "code",
      "source": [
        "import math\n",
        "print(\"*******Combination Example*******\")\n",
        "option = str('y')\n",
        "while option == 'y':\n",
        "    print(\"Please input number of students in the class\")\n",
        "    students = int(input())\n",
        "    if students < 0:\n",
        "        print(\" Invalid Entry\")\n",
        "        break\n",
        "    print(\"Please input number prefects in class\")\n",
        "    prefects = int(input())\n",
        "    if prefects < 0 or prefects > students:\n",
        "        print(\" Invalid Entry\")\n",
        "        break\n",
        "    print(\"Please input number of students per committe\")\n",
        "    comstu = int(input())\n",
        "    if (comstu < 0) or (comstu > students) or (comstu < prefects):\n",
        "        print(\" Invalid Entry\")\n",
        "        break\n",
        "    print(\"Please input number of prefects you want in committe\")\n",
        "    compre = int(input())\n",
        "    if compre > prefects:\n",
        "        print(\"Cannot exceed total number of prefects\")\n",
        "        break\n",
        "    else:\n",
        "            x= comstu - compre # gives us denominator factor\n",
        "            y= students - prefects # gives us numerator factor\n",
        "            a=math.factorial(prefects)\n",
        "            b = math.factorial(compre)\n",
        "            c = math.factorial(prefects - compre)\n",
        "            result1 = a/(b*c)\n",
        "            print(\" Number of ways of choosing\", compre, \"from\", prefects, \"is =\", result1)\n",
        "            p = math.factorial(y)\n",
        "            q = math.factorial(x)\n",
        "            r = math.factorial(y-x)\n",
        "            result2 = p / (q * r)\n",
        "            print(\" Number of ways of choosing\", x, \"from\", y, \"is =\", result2)\n",
        "            print(\" Total Number of possible committees with exactly\", compre, \"prefects is =\", result2*result1)\n",
        "    print(\"If you want to continue enter y or else any other character\")  # To continue while loop\n",
        "    option = input()\n",
        "input(\"Press any key to close the code\")\n"
      ],
      "execution_count": 0,
      "outputs": []
    }
  ]
}